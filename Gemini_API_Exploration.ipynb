{
 "cells": [
  {
   "cell_type": "code",
   "execution_count": 1,
   "metadata": {
    "id": "PRt0Gnw7IdER"
   },
   "outputs": [],
   "source": [
    "pip install -q -U google-generativeai"
   ]
  },
  {
   "cell_type": "code",
   "execution_count": 1,
   "metadata": {
    "id": "2QGNRrp-YhJt"
   },
   "outputs": [],
   "source": [
    "import google.generativeai as genai\n",
    "import os\n",
    "\n",
    "# Set your API key\n",
    "os.environ[\"GOOGLE_API_KEY\"] = \"Your api here\"\n",
    "genai.configure(api_key=os.environ[\"GOOGLE_API_KEY\"])"
   ]
  },
  {
   "cell_type": "code",
   "execution_count": 4,
   "metadata": {},
   "outputs": [
    {
     "name": "stdout",
     "output_type": "stream",
     "text": [
      "====================================================--------------------------\n",
      "Model Name: models/chat-bison-001, \n",
      " Description: A legacy text-only model optimized for chat conversations\n",
      "====================================================--------------------------\n",
      "====================================================--------------------------\n",
      "Model Name: models/text-bison-001, \n",
      " Description: A legacy model that understands text and generates text as an output\n",
      "====================================================--------------------------\n",
      "====================================================--------------------------\n",
      "Model Name: models/embedding-gecko-001, \n",
      " Description: Obtain a distributed representation of a text.\n",
      "====================================================--------------------------\n",
      "====================================================--------------------------\n",
      "Model Name: models/gemini-1.0-pro-latest, \n",
      " Description: The best model for scaling across a wide range of tasks. This is the latest model.\n",
      "====================================================--------------------------\n",
      "====================================================--------------------------\n",
      "Model Name: models/gemini-1.0-pro, \n",
      " Description: The best model for scaling across a wide range of tasks\n",
      "====================================================--------------------------\n",
      "====================================================--------------------------\n",
      "Model Name: models/gemini-pro, \n",
      " Description: The best model for scaling across a wide range of tasks\n",
      "====================================================--------------------------\n",
      "====================================================--------------------------\n",
      "Model Name: models/gemini-1.0-pro-001, \n",
      " Description: The best model for scaling across a wide range of tasks. This is a stable model that supports tuning.\n",
      "====================================================--------------------------\n",
      "====================================================--------------------------\n",
      "Model Name: models/gemini-1.0-pro-vision-latest, \n",
      " Description: The best image understanding model to handle a broad range of applications\n",
      "====================================================--------------------------\n",
      "====================================================--------------------------\n",
      "Model Name: models/gemini-pro-vision, \n",
      " Description: The best image understanding model to handle a broad range of applications\n",
      "====================================================--------------------------\n",
      "====================================================--------------------------\n",
      "Model Name: models/gemini-1.5-pro-latest, \n",
      " Description: Mid-size multimodal model that supports up to 2 million tokens\n",
      "====================================================--------------------------\n",
      "====================================================--------------------------\n",
      "Model Name: models/gemini-1.5-pro-001, \n",
      " Description: Mid-size multimodal model that supports up to 2 million tokens\n",
      "====================================================--------------------------\n",
      "====================================================--------------------------\n",
      "Model Name: models/gemini-1.5-pro, \n",
      " Description: Mid-size multimodal model that supports up to 2 million tokens\n",
      "====================================================--------------------------\n",
      "====================================================--------------------------\n",
      "Model Name: models/gemini-1.5-pro-exp-0801, \n",
      " Description: Mid-size multimodal model that supports up to 2 million tokens\n",
      "====================================================--------------------------\n",
      "====================================================--------------------------\n",
      "Model Name: models/gemini-1.5-pro-exp-0827, \n",
      " Description: Mid-size multimodal model that supports up to 2 million tokens\n",
      "====================================================--------------------------\n",
      "====================================================--------------------------\n",
      "Model Name: models/gemini-1.5-flash-latest, \n",
      " Description: Fast and versatile multimodal model for scaling across diverse tasks\n",
      "====================================================--------------------------\n",
      "====================================================--------------------------\n",
      "Model Name: models/gemini-1.5-flash-001, \n",
      " Description: Fast and versatile multimodal model for scaling across diverse tasks\n",
      "====================================================--------------------------\n",
      "====================================================--------------------------\n",
      "Model Name: models/gemini-1.5-flash-001-tuning, \n",
      " Description: Fast and versatile multimodal model for scaling across diverse tasks\n",
      "====================================================--------------------------\n",
      "====================================================--------------------------\n",
      "Model Name: models/gemini-1.5-flash, \n",
      " Description: Fast and versatile multimodal model for scaling across diverse tasks\n",
      "====================================================--------------------------\n",
      "====================================================--------------------------\n",
      "Model Name: models/gemini-1.5-flash-exp-0827, \n",
      " Description: Fast and versatile multimodal model for scaling across diverse tasks\n",
      "====================================================--------------------------\n",
      "====================================================--------------------------\n",
      "Model Name: models/gemini-1.5-flash-8b-exp-0827, \n",
      " Description: Fast and versatile multimodal model for scaling across diverse tasks\n",
      "====================================================--------------------------\n",
      "====================================================--------------------------\n",
      "Model Name: models/embedding-001, \n",
      " Description: Obtain a distributed representation of a text.\n",
      "====================================================--------------------------\n",
      "====================================================--------------------------\n",
      "Model Name: models/text-embedding-004, \n",
      " Description: Obtain a distributed representation of a text.\n",
      "====================================================--------------------------\n",
      "====================================================--------------------------\n",
      "Model Name: models/aqa, \n",
      " Description: Model trained to return answers to questions that are grounded in provided sources, along with estimating answerable probability.\n",
      "====================================================--------------------------\n"
     ]
    }
   ],
   "source": [
    "# Function to list available models\n",
    "def list_available_models():\n",
    "    models = genai.list_models()\n",
    "    for model in models:\n",
    "        print(\"====================================================--------------------------\")\n",
    "        print(f\"Model Name: {model.name}, \\n Description: {getattr(model, 'description', 'No description available')}\")\n",
    "        print(\"====================================================--------------------------\")\n",
    "\n",
    "# Call the function to list models\n",
    "list_available_models()"
   ]
  },
  {
   "cell_type": "code",
   "execution_count": 2,
   "metadata": {},
   "outputs": [],
   "source": [
    "# Initialize the model\n",
    "model = genai.GenerativeModel(\"models/gemini-pro\")"
   ]
  },
  {
   "cell_type": "code",
   "execution_count": 3,
   "metadata": {},
   "outputs": [],
   "source": [
    "prompt = \"What is universe\""
   ]
  },
  {
   "cell_type": "code",
   "execution_count": 5,
   "metadata": {},
   "outputs": [
    {
     "data": {
      "text/plain": [
       "'The universe is everything that exists, including all of space and time. It encompasses everything from the smallest subatomic particles to the largest galaxies and superclusters. The universe is vast and mysterious, but scientists are constantly learning more about it through observation and experimentation.\\n\\nThere are many different theories about the origin of the universe, but the most widely accepted theory is the Big Bang theory. The Big Bang theory states that the universe began about 13.8 billion years ago with a very hot, dense state. This state was so hot and dense that it was impossible for atoms to form. Instead, the universe was filled with a soup of subatomic particles.\\n\\nOver time, the universe expanded and cooled. As it cooled, atoms began to form. These atoms eventually clumped together to form stars and galaxies. The universe has continued to expand ever since the Big Bang, and it is now many times larger than it was in its early stages.\\n\\nThe universe is divided into two main parts: the visible universe and the dark universe. The visible universe is the part of the universe that we can see with our telescopes. It includes stars, galaxies, planets, and other objects that emit light. The dark universe is the part of the universe that we cannot see. It is made up of dark matter and dark energy.\\n\\nDark matter is a mysterious substance that does not emit any light. It is thought to make up about 27% of the universe. Dark energy is a force that is causing the universe to expand at an ever-increasing rate. It is thought to make up about 68% of the universe.\\n\\nThe universe is a vast and mysterious place. Scientists are still trying to understand how it began and how it will end. However, the universe is also a beautiful and awe-inspiring place. It is full of wonder and mystery, and it is a reminder that we are part of something much larger than ourselves.'"
      ]
     },
     "execution_count": 5,
     "metadata": {},
     "output_type": "execute_result"
    }
   ],
   "source": [
    "model.generate_content(prompt).text"
   ]
  },
  {
   "cell_type": "markdown",
   "metadata": {},
   "source": [
    "# Structure Code"
   ]
  },
  {
   "cell_type": "code",
   "execution_count": 6,
   "metadata": {},
   "outputs": [],
   "source": [
    "# Function to generate content\n",
    "def generate_contet(prompt):\n",
    "    response = model.generate_content(prompt)\n",
    "    return response.text"
   ]
  },
  {
   "cell_type": "code",
   "execution_count": 7,
   "metadata": {
    "colab": {
     "base_uri": "https://localhost:8080/",
     "height": 488
    },
    "id": "C5Ehfarfxf8K",
    "outputId": "397ab2fe-2e30-4e9a-bd7a-670e6a3a1225"
   },
   "outputs": [
    {
     "name": "stdout",
     "output_type": "stream",
     "text": [
      "How may i help Today............what is AI\n",
      "\n",
      "\n",
      "==================================\n",
      " **Artificial Intelligence (AI)**\n",
      "\n",
      "AI refers to the ability of machines to perform tasks that typically require human intelligence, such as problem-solving, learning, and decision-making. These tasks are characterized by their complexity and require cognitive abilities like:\n",
      "\n",
      "* **Reasoning:** Drawing inferences and making logical conclusions based on available information.\n",
      "* **Learning:** Acquiring and retaining knowledge, adapting to new situations, and improving performance over time.\n",
      "* **Problem-solving:** Identifying and solving complex problems by breaking them down into smaller steps and devising solutions.\n",
      "* **Natural language processing (NLP):** Understanding, generating, and manipulating human language.\n",
      "* **Computer vision:** Analyzing and interpreting visual data from images and videos.\n",
      "\n",
      "**Types of AI**\n",
      "\n",
      "AI can be broadly classified into three main types:\n",
      "\n",
      "* **Weak AI (Narrow AI):** Specialized systems designed to perform specific tasks with high efficiency, such as facial recognition or language translation.\n",
      "* **General AI (Strong AI):** Systems that can perform a wide range of intellectual tasks comparable to human capabilities. This type of AI has not yet been achieved.\n",
      "* **Super AI:** Hypothetical AI systems that surpass human intelligence in all aspects.\n",
      "\n",
      "**Applications of AI**\n",
      "\n",
      "AI is finding applications in numerous fields, including:\n",
      "\n",
      "* Healthcare: Disease diagnosis, personalized medicine, drug discovery\n",
      "* Finance: Fraud detection, risk management, investment automation\n",
      "* Transportation: Self-driving cars, traffic optimization\n",
      "* Manufacturing: Quality control, predictive maintenance\n",
      "* Customer service: Chatbots, virtual assistants\n",
      "* Education: Personalized learning, automated grading\n",
      "* Environmental protection: Climate modeling, pollution monitoring\n",
      "\n",
      "**Benefits of AI**\n",
      "\n",
      "* **Automation and efficiency:** AI-powered systems can automate repetitive and complex tasks, freeing up human resources for more creative and strategic endeavors.\n",
      "* **Enhanced decision-making:** AI algorithms can process vast amounts of data and provide insights that help in making better decisions.\n",
      "* **Improved customer experience:** AI-driven chatbots and virtual assistants provide personalized support and enhance customer engagement.\n",
      "* **Innovation and discovery:** AI enables new discoveries and breakthroughs by identifying patterns and trends that humans may not be able to detect.\n",
      "\n",
      "**Challenges of AI**\n",
      "\n",
      "* **Job displacement:** AI systems may automate tasks currently performed by humans, raising concerns about job loss.\n",
      "* **Ethical considerations:** AI algorithms can be biased or used for malicious purposes, highlighting the need for responsible development and use.\n",
      "* **Explainability and transparency:** The decision-making process of AI systems can be opaque, making it difficult to understand and trust their conclusions.\n"
     ]
    }
   ],
   "source": [
    "#\n",
    "prompt = input(\"How may i help Today............\")\n",
    "content = generate_contet(prompt)\n",
    "\n",
    "print(\"\\n\\n==================================\\n\",content)"
   ]
  },
  {
   "cell_type": "code",
   "execution_count": null,
   "metadata": {
    "id": "dsDbSeP8y7Ld"
   },
   "outputs": [],
   "source": []
  }
 ],
 "metadata": {
  "accelerator": "GPU",
  "colab": {
   "gpuType": "T4",
   "provenance": []
  },
  "kernelspec": {
   "display_name": "Python 3 (ipykernel)",
   "language": "python",
   "name": "python3"
  },
  "language_info": {
   "codemirror_mode": {
    "name": "ipython",
    "version": 3
   },
   "file_extension": ".py",
   "mimetype": "text/x-python",
   "name": "python",
   "nbconvert_exporter": "python",
   "pygments_lexer": "ipython3",
   "version": "3.9.12"
  }
 },
 "nbformat": 4,
 "nbformat_minor": 1
}
